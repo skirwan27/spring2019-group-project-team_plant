{
 "cells": [
  {
   "cell_type": "code",
   "execution_count": 19,
   "metadata": {
    "slideshow": {
     "slide_type": "slide"
    }
   },
   "outputs": [],
   "source": [
    "from ipywidgets import widgets\n",
    "from IPython.display import display"
   ]
  },
  {
   "cell_type": "code",
   "execution_count": 20,
   "metadata": {},
   "outputs": [
    {
     "data": {
      "application/vnd.jupyter.widget-view+json": {
       "model_id": "61670a01062b423e9900defd80f5b371",
       "version_major": 2,
       "version_minor": 0
      },
      "text/plain": [
       "Text(value='')"
      ]
     },
     "metadata": {},
     "output_type": "display_data"
    }
   ],
   "source": [
    "text = widgets.Text()\n",
    "display(text)\n",
    "\n",
    "def handle_submit(sender):\n",
    "    x = text.value\n",
    "    print(x)\n",
    "    \n",
    "text.on_submit(handle_submit)"
   ]
  },
  {
   "cell_type": "code",
   "execution_count": 12,
   "metadata": {},
   "outputs": [
    {
     "data": {
      "application/vnd.jupyter.widget-view+json": {
       "model_id": "b3c825f5d1e9455b80b23d63ff3d423b",
       "version_major": 2,
       "version_minor": 0
      },
      "text/plain": [
       "Button(description='Option A', style=ButtonStyle())"
      ]
     },
     "metadata": {},
     "output_type": "display_data"
    },
    {
     "data": {
      "application/vnd.jupyter.widget-view+json": {
       "model_id": "1f4489d15cfb49b7872bdb756f9b808d",
       "version_major": 2,
       "version_minor": 0
      },
      "text/plain": [
       "Button(description='Option B', style=ButtonStyle())"
      ]
     },
     "metadata": {},
     "output_type": "display_data"
    },
    {
     "data": {
      "application/vnd.jupyter.widget-view+json": {
       "model_id": "ca281633e5214e4ca2624a56e84c87e1",
       "version_major": 2,
       "version_minor": 0
      },
      "text/plain": [
       "Button(description='Option C', style=ButtonStyle())"
      ]
     },
     "metadata": {},
     "output_type": "display_data"
    }
   ],
   "source": [
    "buttonA = widgets.Button(description=\"Option A\")\n",
    "display(buttonA)\n",
    "buttonB = widgets.Button(description=\"Option B\")\n",
    "display(buttonB)\n",
    "buttonC = widgets.Button(description=\"Option C\")\n",
    "display(buttonC)\n",
    "\n",
    "def on_button_clicked(b):\n",
    "    print(\"Button Clicked\")\n",
    "    \n",
    "buttonA.on_click(on_button_clicked)\n",
    "buttonB.on_click(on_button_clicked)\n",
    "buttonC.on_click(on_button_clicked)"
   ]
  },
  {
   "cell_type": "code",
   "execution_count": 18,
   "metadata": {},
   "outputs": [
    {
     "data": {
      "application/vnd.jupyter.widget-view+json": {
       "model_id": "81e5ff561bc5441c9d8425c5de18f853",
       "version_major": 2,
       "version_minor": 0
      },
      "text/plain": [
       "RadioButtons(description='Choose an option:', options=('option A', 'option B', 'option C'), value='option A')"
      ]
     },
     "metadata": {},
     "output_type": "display_data"
    }
   ],
   "source": [
    "widgets.RadioButtons(\n",
    "    options=['option A', 'option B', 'option C'],\n",
    "    description='Choose an option:',\n",
    "    disabled=False\n",
    ")"
   ]
  },
  {
   "cell_type": "code",
   "execution_count": 21,
   "metadata": {},
   "outputs": [
    {
     "data": {
      "application/vnd.jupyter.widget-view+json": {
       "model_id": "fc6ff9bcf95145e7be6b69e1b80f23ed",
       "version_major": 2,
       "version_minor": 0
      },
      "text/plain": [
       "SelectMultiple(description='What size plant are you looking for?', options=('Small', 'Medium', 'Large', 'I lik…"
      ]
     },
     "metadata": {},
     "output_type": "display_data"
    }
   ],
   "source": [
    "widgets.SelectMultiple(\n",
    "    options=['Small', 'Medium', 'Large','I like plants of all shapes and sizes!'],\n",
    "    #value=['Oranges'],\n",
    "    #rows=10,\n",
    "    description='What size plant are you looking for?',\n",
    "    disabled=False\n",
    ")"
   ]
  },
  {
   "cell_type": "code",
   "execution_count": null,
   "metadata": {},
   "outputs": [],
   "source": [
    "out_sm = widgets.Text()"
   ]
  },
  {
   "cell_type": "code",
   "execution_count": null,
   "metadata": {},
   "outputs": [],
   "source": [
    "def f(x):\n",
    "    out_sm.value = str(x)\n",
    "    \n",
    "interact()"
   ]
  },
  {
   "cell_type": "code",
   "execution_count": 23,
   "metadata": {},
   "outputs": [],
   "source": [
    "from tkinter import *\n",
    "#import tkMessageBox\n",
    "#import tkinter\n",
    "#master = Tk()"
   ]
  },
  {
   "cell_type": "code",
   "execution_count": 7,
   "metadata": {},
   "outputs": [
    {
     "name": "stdout",
     "output_type": "stream",
     "text": [
      "small: 1,\n",
      "medium: 0,\n",
      "large: 0,\n",
      "any: 0\n",
      "small: 1,\n",
      "medium: 1,\n",
      "large: 0,\n",
      "any: 0\n",
      "small: 1,\n",
      "medium: 1,\n",
      "large: 0,\n",
      "any: 1\n"
     ]
    }
   ],
   "source": [
    "def var_states():\n",
    "   print(\"small: %d,\\nmedium: %d,\\nlarge: %d,\\nany: %d\" % (var1.get(), var2.get(), var3.get(), var4.get()))\n",
    "\n",
    "\n",
    "Label(master, text=\"What size plant are you looking for?\").grid(row=0,sticky=W)\n",
    "var1 = IntVar()\n",
    "Checkbutton(master, text=\"Small\",variable=var1).grid(row=1,sticky=W)\n",
    "var2 = IntVar()\n",
    "Checkbutton(master, text=\"Medium\",variable=var2).grid(row=2,sticky=W)\n",
    "var3 = IntVar()\n",
    "Checkbutton(master, text=\"Large\",variable=var3).grid(row=3,sticky=W)\n",
    "var4 = IntVar()\n",
    "Checkbutton(master, text=\"I like plants of all shapes and sizes!\",variable=var4).grid(row=4,sticky=W)\n",
    "Button(master, text='Quit', command=master.quit).grid(row=5, sticky=W, pady=4)\n",
    "Button(master, text='Show', command=var_states).grid(row=6, sticky=W, pady=4)\n",
    "mainloop()\n"
   ]
  },
  {
   "cell_type": "code",
   "execution_count": 14,
   "metadata": {},
   "outputs": [],
   "source": [
    "top = tkinter.Tk()\n",
    "CheckVar1 = IntVar()\n",
    "CheckVar2 = IntVar()\n",
    "C1 = Checkbutton(top, text = \"Music\", variable = CheckVar1, \\\n",
    "                 onvalue = 1, offvalue = 0, height=5, \\\n",
    "                 width = 20)\n",
    "C2 = Checkbutton(top, text = \"Video\", variable = CheckVar2, \\\n",
    "                 onvalue = 1, offvalue = 0, height=5, \\\n",
    "                 width = 20)\n",
    "C1.pack()\n",
    "C2.pack()\n",
    "top.mainloop()"
   ]
  },
  {
   "cell_type": "code",
   "execution_count": 16,
   "metadata": {},
   "outputs": [
    {
     "data": {
      "text/plain": [
       "<tkinter.IntVar at 0x107dab4a8>"
      ]
     },
     "execution_count": 16,
     "metadata": {},
     "output_type": "execute_result"
    }
   ],
   "source": [
    "CheckVar1"
   ]
  },
  {
   "cell_type": "code",
   "execution_count": 86,
   "metadata": {},
   "outputs": [],
   "source": [
    "questions = [\n",
    "    \"What size plant are you looking for?\",\n",
    "    \"Do you have room for a big pot?\"\n",
    "]\n",
    "\n",
    "options = [\n",
    "    [\"Small\", \"Medium\", \"Large\", \"I like plants of all shapes and sizes!\"],\n",
    "    [\"Yes\", \"No\"]\n",
    "]\n",
    "\n",
    "answer_list = [];"
   ]
  },
  {
   "cell_type": "code",
   "execution_count": 87,
   "metadata": {},
   "outputs": [],
   "source": [
    "class PlantQuiz:\n",
    "    def __init__(self,master):\n",
    "        self.opt_selected = IntVar()\n",
    "        self.qn = 0\n",
    "        self.ques = self.create_question(master, self.qn)\n",
    "        self.opts = self.create_options(master,4)\n",
    "        self.display_question(self.qn)\n",
    "        self.button = Button(master, text=\"Back\", command=self.back_btn)\n",
    "        self.button.pack(side=BOTTOM)\n",
    "        self.button = Button(master, text=\"Next\", command=self.next_btn)\n",
    "        self.button.pack(side=BOTTOM)        \n",
    "        \n",
    "    def create_question(self, master, qn):\n",
    "        w = Label(master, text = questions[qn])\n",
    "        w.pack(side=TOP)\n",
    "        return w\n",
    "    \n",
    "    def create_options(self, master, n):\n",
    "        b_val = 0\n",
    "        b = []\n",
    "        while b_val < n:\n",
    "            btn = Radiobutton(master, text = \"foo\", variable = self.opt_selected, value = b_val + 1)\n",
    "            b.append(btn)\n",
    "            btn.pack(side=TOP, anchor=\"w\")\n",
    "            b_val = b_val + 1\n",
    "        return b\n",
    "    \n",
    "    def display_question(self, qn):\n",
    "        b_val = 0\n",
    "        b = []\n",
    "        self.opt_selected.set(0)\n",
    "        self.ques['text'] = questions[qn]\n",
    "        for op in options[qn]:\n",
    "            self.opts[b_val]['text'] = op\n",
    "            b_val = b_val + 1\n",
    "    \n",
    "    def giveresponse(self, qn):\n",
    "        print(self.opt_selected.get())\n",
    "        \n",
    "    def back_btn(self):\n",
    "        print(\"Back\")\n",
    "        \n",
    "#    def store_answer(self, qn): # Store dataset for answers to check against plant dataset\n",
    "        #answer_list[qn] = options[qn][self.opt_selected.get()]\n",
    "#        return options[qn][self.opt_selected.get()]\n",
    "    \n",
    "    def next_btn(self):\n",
    "        #answer_list[qn] = store_answer(self.qn)\n",
    "        answer_list[self.qn] = options[self.qn][self.opt_selected.get()-1]\n",
    "        self.qn = self.qn + 1\n",
    "        if self.qn > len(questions):\n",
    "            print(\"hi\")\n",
    "            # Do something at end -> caluclations\n",
    "        else: \n",
    "            print(self.opt_selected.get())\n",
    "            self.display_question(self.qn)\n",
    "            \n",
    "\n",
    "        \n",
    "        \n",
    "        "
   ]
  },
  {
   "cell_type": "code",
   "execution_count": null,
   "metadata": {},
   "outputs": [
    {
     "name": "stderr",
     "output_type": "stream",
     "text": [
      "Exception in Tkinter callback\n",
      "Traceback (most recent call last):\n",
      "  File \"/anaconda3/lib/python3.7/tkinter/__init__.py\", line 1705, in __call__\n",
      "    return self.func(*args)\n",
      "  File \"<ipython-input-87-e5debe9b246d>\", line 49, in next_btn\n",
      "    answer_list[self.qn] = options[self.qn][self.opt_selected.get()-1]\n",
      "IndexError: list assignment index out of range\n"
     ]
    }
   ],
   "source": [
    "root = Tk()\n",
    "root.geometry(\"500x300\")\n",
    "app = PlantQuiz(root)\n",
    "root.mainloop()"
   ]
  },
  {
   "cell_type": "code",
   "execution_count": 34,
   "metadata": {},
   "outputs": [
    {
     "data": {
      "text/plain": [
       "4"
      ]
     },
     "execution_count": 34,
     "metadata": {},
     "output_type": "execute_result"
    }
   ],
   "source": [
    "len(answers[0])"
   ]
  },
  {
   "cell_type": "code",
   "execution_count": 64,
   "metadata": {},
   "outputs": [
    {
     "data": {
      "text/plain": [
       "'Medium'"
      ]
     },
     "execution_count": 64,
     "metadata": {},
     "output_type": "execute_result"
    }
   ],
   "source": [
    "options[0][1]"
   ]
  },
  {
   "cell_type": "code",
   "execution_count": null,
   "metadata": {},
   "outputs": [],
   "source": []
  }
 ],
 "metadata": {
  "kernelspec": {
   "display_name": "Python 3",
   "language": "python",
   "name": "python3"
  },
  "language_info": {
   "codemirror_mode": {
    "name": "ipython",
    "version": 3
   },
   "file_extension": ".py",
   "mimetype": "text/x-python",
   "name": "python",
   "nbconvert_exporter": "python",
   "pygments_lexer": "ipython3",
   "version": "3.7.1"
  }
 },
 "nbformat": 4,
 "nbformat_minor": 2
}
